{
 "cells": [
  {
   "cell_type": "markdown",
   "metadata": {},
   "source": [
    "# **Model Training**"
   ]
  },
  {
   "cell_type": "markdown",
   "metadata": {},
   "source": [
    "## **Data Preprocessing**"
   ]
  },
  {
   "cell_type": "code",
   "execution_count": null,
   "metadata": {},
   "outputs": [],
   "source": [
    "# importing all necessary libraries\n",
    "import pandas as pd\n",
    "import numpy as np\n",
    "import seaborn as sns\n",
    "import os\n",
    "from sklearn.preprocessing import OneHotEncoder, MinMaxScaler\n",
    "from sklearn.compose import ColumnTransformer\n",
    "from sklearn.model_selection import train_test_split\n",
    "from imblearn.under_sampling import RepeatedEditedNearestNeighbours\n",
    "import matplotlib.pyplot as plt\n",
    "import mlflow\n",
    "import mlflow.sklearn\n",
    "from mlflow.models.signature import infer_signature\n",
    "import warnings\n",
    "from dotenv import load_dotenv\n",
    "\n",
    "load_dotenv()\n",
    "warnings.filterwarnings('ignore')"
   ]
  },
  {
   "cell_type": "code",
   "execution_count": 3,
   "metadata": {},
   "outputs": [
    {
     "data": {
      "text/html": [
       "<div>\n",
       "<style scoped>\n",
       "    .dataframe tbody tr th:only-of-type {\n",
       "        vertical-align: middle;\n",
       "    }\n",
       "\n",
       "    .dataframe tbody tr th {\n",
       "        vertical-align: top;\n",
       "    }\n",
       "\n",
       "    .dataframe thead th {\n",
       "        text-align: right;\n",
       "    }\n",
       "</style>\n",
       "<table border=\"1\" class=\"dataframe\">\n",
       "  <thead>\n",
       "    <tr style=\"text-align: right;\">\n",
       "      <th></th>\n",
       "      <th>id</th>\n",
       "      <th>Gender</th>\n",
       "      <th>Age</th>\n",
       "      <th>Driving_License</th>\n",
       "      <th>Region_Code</th>\n",
       "      <th>Previously_Insured</th>\n",
       "      <th>Vehicle_Age</th>\n",
       "      <th>Vehicle_Damage</th>\n",
       "      <th>Annual_Premium</th>\n",
       "      <th>Policy_Sales_Channel</th>\n",
       "      <th>Vintage</th>\n",
       "      <th>Response</th>\n",
       "    </tr>\n",
       "  </thead>\n",
       "  <tbody>\n",
       "    <tr>\n",
       "      <th>0</th>\n",
       "      <td>1</td>\n",
       "      <td>Male</td>\n",
       "      <td>44</td>\n",
       "      <td>1</td>\n",
       "      <td>28.0</td>\n",
       "      <td>0</td>\n",
       "      <td>&gt; 2 Years</td>\n",
       "      <td>Yes</td>\n",
       "      <td>40454.0</td>\n",
       "      <td>26.0</td>\n",
       "      <td>217</td>\n",
       "      <td>1</td>\n",
       "    </tr>\n",
       "    <tr>\n",
       "      <th>1</th>\n",
       "      <td>2</td>\n",
       "      <td>Male</td>\n",
       "      <td>76</td>\n",
       "      <td>1</td>\n",
       "      <td>3.0</td>\n",
       "      <td>0</td>\n",
       "      <td>1-2 Year</td>\n",
       "      <td>No</td>\n",
       "      <td>33536.0</td>\n",
       "      <td>26.0</td>\n",
       "      <td>183</td>\n",
       "      <td>0</td>\n",
       "    </tr>\n",
       "    <tr>\n",
       "      <th>2</th>\n",
       "      <td>3</td>\n",
       "      <td>Male</td>\n",
       "      <td>47</td>\n",
       "      <td>1</td>\n",
       "      <td>28.0</td>\n",
       "      <td>0</td>\n",
       "      <td>&gt; 2 Years</td>\n",
       "      <td>Yes</td>\n",
       "      <td>38294.0</td>\n",
       "      <td>26.0</td>\n",
       "      <td>27</td>\n",
       "      <td>1</td>\n",
       "    </tr>\n",
       "    <tr>\n",
       "      <th>3</th>\n",
       "      <td>4</td>\n",
       "      <td>Male</td>\n",
       "      <td>21</td>\n",
       "      <td>1</td>\n",
       "      <td>11.0</td>\n",
       "      <td>1</td>\n",
       "      <td>&lt; 1 Year</td>\n",
       "      <td>No</td>\n",
       "      <td>28619.0</td>\n",
       "      <td>152.0</td>\n",
       "      <td>203</td>\n",
       "      <td>0</td>\n",
       "    </tr>\n",
       "    <tr>\n",
       "      <th>4</th>\n",
       "      <td>5</td>\n",
       "      <td>Female</td>\n",
       "      <td>29</td>\n",
       "      <td>1</td>\n",
       "      <td>41.0</td>\n",
       "      <td>1</td>\n",
       "      <td>&lt; 1 Year</td>\n",
       "      <td>No</td>\n",
       "      <td>27496.0</td>\n",
       "      <td>152.0</td>\n",
       "      <td>39</td>\n",
       "      <td>0</td>\n",
       "    </tr>\n",
       "  </tbody>\n",
       "</table>\n",
       "</div>"
      ],
      "text/plain": [
       "   id  Gender  Age  Driving_License  Region_Code  Previously_Insured  \\\n",
       "0   1    Male   44                1         28.0                   0   \n",
       "1   2    Male   76                1          3.0                   0   \n",
       "2   3    Male   47                1         28.0                   0   \n",
       "3   4    Male   21                1         11.0                   1   \n",
       "4   5  Female   29                1         41.0                   1   \n",
       "\n",
       "  Vehicle_Age Vehicle_Damage  Annual_Premium  Policy_Sales_Channel  Vintage  \\\n",
       "0   > 2 Years            Yes         40454.0                  26.0      217   \n",
       "1    1-2 Year             No         33536.0                  26.0      183   \n",
       "2   > 2 Years            Yes         38294.0                  26.0       27   \n",
       "3    < 1 Year             No         28619.0                 152.0      203   \n",
       "4    < 1 Year             No         27496.0                 152.0       39   \n",
       "\n",
       "   Response  \n",
       "0         1  \n",
       "1         0  \n",
       "2         1  \n",
       "3         0  \n",
       "4         0  "
      ]
     },
     "execution_count": 3,
     "metadata": {},
     "output_type": "execute_result"
    }
   ],
   "source": [
    "# reading data\n",
    "main_df = pd.read_csv('data.csv')\n",
    "main_df.head()"
   ]
  },
  {
   "cell_type": "code",
   "execution_count": 4,
   "metadata": {},
   "outputs": [
    {
     "data": {
      "text/plain": [
       "(381109, 12)"
      ]
     },
     "execution_count": 4,
     "metadata": {},
     "output_type": "execute_result"
    }
   ],
   "source": [
    "main_df.shape"
   ]
  },
  {
   "cell_type": "code",
   "execution_count": 5,
   "metadata": {},
   "outputs": [
    {
     "data": {
      "text/plain": [
       "Response\n",
       "0    334399\n",
       "1     46710\n",
       "Name: count, dtype: int64"
      ]
     },
     "execution_count": 5,
     "metadata": {},
     "output_type": "execute_result"
    }
   ],
   "source": [
    "main_df['Response'].value_counts()"
   ]
  },
  {
   "cell_type": "code",
   "execution_count": 6,
   "metadata": {},
   "outputs": [],
   "source": [
    "# taking 20% of data for experimentation\n",
    "df = main_df.iloc[:int(0.2*main_df.shape[0])]"
   ]
  },
  {
   "cell_type": "code",
   "execution_count": 7,
   "metadata": {},
   "outputs": [
    {
     "data": {
      "text/plain": [
       "(76221, 12)"
      ]
     },
     "execution_count": 7,
     "metadata": {},
     "output_type": "execute_result"
    }
   ],
   "source": [
    "# shape of experimentation data \n",
    "df.shape"
   ]
  },
  {
   "cell_type": "code",
   "execution_count": 8,
   "metadata": {},
   "outputs": [
    {
     "data": {
      "text/plain": [
       "Response\n",
       "0    66789\n",
       "1     9432\n",
       "Name: count, dtype: int64"
      ]
     },
     "execution_count": 8,
     "metadata": {},
     "output_type": "execute_result"
    }
   ],
   "source": [
    "df['Response'].value_counts()"
   ]
  },
  {
   "cell_type": "code",
   "execution_count": 9,
   "metadata": {},
   "outputs": [
    {
     "name": "stdout",
     "output_type": "stream",
     "text": [
      "<class 'pandas.core.frame.DataFrame'>\n",
      "RangeIndex: 76221 entries, 0 to 76220\n",
      "Data columns (total 12 columns):\n",
      " #   Column                Non-Null Count  Dtype  \n",
      "---  ------                --------------  -----  \n",
      " 0   id                    76221 non-null  int64  \n",
      " 1   Gender                76221 non-null  object \n",
      " 2   Age                   76221 non-null  int64  \n",
      " 3   Driving_License       76221 non-null  int64  \n",
      " 4   Region_Code           76221 non-null  float64\n",
      " 5   Previously_Insured    76221 non-null  int64  \n",
      " 6   Vehicle_Age           76221 non-null  object \n",
      " 7   Vehicle_Damage        76221 non-null  object \n",
      " 8   Annual_Premium        76221 non-null  float64\n",
      " 9   Policy_Sales_Channel  76221 non-null  float64\n",
      " 10  Vintage               76221 non-null  int64  \n",
      " 11  Response              76221 non-null  int64  \n",
      "dtypes: float64(3), int64(6), object(3)\n",
      "memory usage: 7.0+ MB\n"
     ]
    }
   ],
   "source": [
    "# info of data\n",
    "df.info()"
   ]
  },
  {
   "cell_type": "code",
   "execution_count": 10,
   "metadata": {},
   "outputs": [],
   "source": [
    "# removing unwanted columns\n",
    "columns_to_remove = ['id', 'Driving_License']\n",
    "df.drop(columns=columns_to_remove, inplace=True)"
   ]
  },
  {
   "cell_type": "code",
   "execution_count": 11,
   "metadata": {},
   "outputs": [
    {
     "name": "stdout",
     "output_type": "stream",
     "text": [
      "There are 53 unique values of region code\n"
     ]
    }
   ],
   "source": [
    "# unique values in region code\n",
    "print(\"There are\", df['Region_Code'].nunique(), \"unique values of region code\")"
   ]
  },
  {
   "cell_type": "code",
   "execution_count": 12,
   "metadata": {},
   "outputs": [],
   "source": [
    "# reducing categories in region code column \n",
    "region_counts = df['Region_Code'].value_counts()\n",
    "df['Region_Code'] = [i if region_counts[i] >= 6280 else 1.0 for i in df['Region_Code']]"
   ]
  },
  {
   "cell_type": "code",
   "execution_count": 13,
   "metadata": {},
   "outputs": [
    {
     "data": {
      "text/plain": [
       "array([28.,  1.,  8.])"
      ]
     },
     "execution_count": 13,
     "metadata": {},
     "output_type": "execute_result"
    }
   ],
   "source": [
    "# checkin unique values in Region_Code column\n",
    "df['Region_Code'].unique()"
   ]
  },
  {
   "cell_type": "code",
   "execution_count": 14,
   "metadata": {},
   "outputs": [],
   "source": [
    "# changing datatype to str\n",
    "df['Region_Code'] = df['Region_Code'].astype(str)"
   ]
  },
  {
   "cell_type": "code",
   "execution_count": 15,
   "metadata": {},
   "outputs": [],
   "source": [
    "# reducing categories in region code column\n",
    "policy_sales_channel_count = df['Policy_Sales_Channel'].value_counts()\n",
    "df['Policy_Sales_Channel'] = [i if policy_sales_channel_count[i] >= 1360 else 1.0 for i in df['Policy_Sales_Channel']]"
   ]
  },
  {
   "cell_type": "code",
   "execution_count": 16,
   "metadata": {},
   "outputs": [
    {
     "data": {
      "text/plain": [
       "array([ 26., 152., 160., 124.,   1., 156., 122.])"
      ]
     },
     "execution_count": 16,
     "metadata": {},
     "output_type": "execute_result"
    }
   ],
   "source": [
    "# checking unique values in Policy_Sales_Channel column\n",
    "df['Policy_Sales_Channel'].unique()"
   ]
  },
  {
   "cell_type": "code",
   "execution_count": 17,
   "metadata": {},
   "outputs": [],
   "source": [
    "# changing datatype to str\n",
    "df['Policy_Sales_Channel'] =df['Policy_Sales_Channel'].astype(str)"
   ]
  },
  {
   "cell_type": "code",
   "execution_count": 18,
   "metadata": {},
   "outputs": [],
   "source": [
    "# encoding vehicle age column\n",
    "df['Vehicle_Age'] = df['Vehicle_Age'].map({'< 1 Year':0, '1-2 Year':1, '> 2 Years':2}).astype(int)"
   ]
  },
  {
   "cell_type": "code",
   "execution_count": 19,
   "metadata": {},
   "outputs": [
    {
     "data": {
      "text/html": [
       "<div>\n",
       "<style scoped>\n",
       "    .dataframe tbody tr th:only-of-type {\n",
       "        vertical-align: middle;\n",
       "    }\n",
       "\n",
       "    .dataframe tbody tr th {\n",
       "        vertical-align: top;\n",
       "    }\n",
       "\n",
       "    .dataframe thead th {\n",
       "        text-align: right;\n",
       "    }\n",
       "</style>\n",
       "<table border=\"1\" class=\"dataframe\">\n",
       "  <thead>\n",
       "    <tr style=\"text-align: right;\">\n",
       "      <th></th>\n",
       "      <th>Gender</th>\n",
       "      <th>Age</th>\n",
       "      <th>Region_Code</th>\n",
       "      <th>Previously_Insured</th>\n",
       "      <th>Vehicle_Age</th>\n",
       "      <th>Vehicle_Damage</th>\n",
       "      <th>Annual_Premium</th>\n",
       "      <th>Policy_Sales_Channel</th>\n",
       "      <th>Vintage</th>\n",
       "      <th>Response</th>\n",
       "    </tr>\n",
       "  </thead>\n",
       "  <tbody>\n",
       "    <tr>\n",
       "      <th>0</th>\n",
       "      <td>Male</td>\n",
       "      <td>44</td>\n",
       "      <td>28.0</td>\n",
       "      <td>0</td>\n",
       "      <td>2</td>\n",
       "      <td>Yes</td>\n",
       "      <td>40454.0</td>\n",
       "      <td>26.0</td>\n",
       "      <td>217</td>\n",
       "      <td>1</td>\n",
       "    </tr>\n",
       "    <tr>\n",
       "      <th>1</th>\n",
       "      <td>Male</td>\n",
       "      <td>76</td>\n",
       "      <td>1.0</td>\n",
       "      <td>0</td>\n",
       "      <td>1</td>\n",
       "      <td>No</td>\n",
       "      <td>33536.0</td>\n",
       "      <td>26.0</td>\n",
       "      <td>183</td>\n",
       "      <td>0</td>\n",
       "    </tr>\n",
       "    <tr>\n",
       "      <th>2</th>\n",
       "      <td>Male</td>\n",
       "      <td>47</td>\n",
       "      <td>28.0</td>\n",
       "      <td>0</td>\n",
       "      <td>2</td>\n",
       "      <td>Yes</td>\n",
       "      <td>38294.0</td>\n",
       "      <td>26.0</td>\n",
       "      <td>27</td>\n",
       "      <td>1</td>\n",
       "    </tr>\n",
       "    <tr>\n",
       "      <th>3</th>\n",
       "      <td>Male</td>\n",
       "      <td>21</td>\n",
       "      <td>1.0</td>\n",
       "      <td>1</td>\n",
       "      <td>0</td>\n",
       "      <td>No</td>\n",
       "      <td>28619.0</td>\n",
       "      <td>152.0</td>\n",
       "      <td>203</td>\n",
       "      <td>0</td>\n",
       "    </tr>\n",
       "    <tr>\n",
       "      <th>4</th>\n",
       "      <td>Female</td>\n",
       "      <td>29</td>\n",
       "      <td>1.0</td>\n",
       "      <td>1</td>\n",
       "      <td>0</td>\n",
       "      <td>No</td>\n",
       "      <td>27496.0</td>\n",
       "      <td>152.0</td>\n",
       "      <td>39</td>\n",
       "      <td>0</td>\n",
       "    </tr>\n",
       "  </tbody>\n",
       "</table>\n",
       "</div>"
      ],
      "text/plain": [
       "   Gender  Age Region_Code  Previously_Insured  Vehicle_Age Vehicle_Damage  \\\n",
       "0    Male   44        28.0                   0            2            Yes   \n",
       "1    Male   76         1.0                   0            1             No   \n",
       "2    Male   47        28.0                   0            2            Yes   \n",
       "3    Male   21         1.0                   1            0             No   \n",
       "4  Female   29         1.0                   1            0             No   \n",
       "\n",
       "   Annual_Premium Policy_Sales_Channel  Vintage  Response  \n",
       "0         40454.0                 26.0      217         1  \n",
       "1         33536.0                 26.0      183         0  \n",
       "2         38294.0                 26.0       27         1  \n",
       "3         28619.0                152.0      203         0  \n",
       "4         27496.0                152.0       39         0  "
      ]
     },
     "execution_count": 19,
     "metadata": {},
     "output_type": "execute_result"
    }
   ],
   "source": [
    "# head of dataset\n",
    "df.head()"
   ]
  },
  {
   "cell_type": "code",
   "execution_count": 20,
   "metadata": {},
   "outputs": [],
   "source": [
    "# splitting data into X and y\n",
    "X = df.drop(columns='Response')\n",
    "y = df['Response']"
   ]
  },
  {
   "cell_type": "code",
   "execution_count": 21,
   "metadata": {},
   "outputs": [
    {
     "data": {
      "text/plain": [
       "(76221, 9)"
      ]
     },
     "execution_count": 21,
     "metadata": {},
     "output_type": "execute_result"
    }
   ],
   "source": [
    "X.shape"
   ]
  },
  {
   "cell_type": "code",
   "execution_count": 22,
   "metadata": {},
   "outputs": [],
   "source": [
    "# splitting data for training and testing\n",
    "X_train, X_test, y_train, y_test = train_test_split(X, y, test_size=0.25, random_state=42)"
   ]
  },
  {
   "cell_type": "code",
   "execution_count": 23,
   "metadata": {},
   "outputs": [],
   "source": [
    "# capping values with maximum values (removing outliers)\n",
    "X_train['Annual_Premium'] = [i if i < 61000 else 61000 for i in X_train['Annual_Premium']]"
   ]
  },
  {
   "cell_type": "code",
   "execution_count": 24,
   "metadata": {},
   "outputs": [],
   "source": [
    "ohe_columns = ['Region_Code', 'Policy_Sales_Channel', 'Vehicle_Damage', 'Gender']\n",
    "mm_columns = ['Age', 'Annual_Premium', 'Vintage', 'Vehicle_Age']\n",
    "\n",
    "one_hot_encoder = OneHotEncoder(sparse_output=False)\n",
    "min_max_scaler = MinMaxScaler()\n",
    "\n",
    "preprocessor = ColumnTransformer(\n",
    "    transformers=[\n",
    "        (\"OneHotEncoder\", one_hot_encoder, ohe_columns),\n",
    "        (\"MinMaxScaler\", min_max_scaler, mm_columns)\n",
    "    ],\n",
    "    remainder='passthrough'  \n",
    ")\n",
    "\n",
    "X_train = preprocessor.fit_transform(X_train)\n",
    "X_test = preprocessor.transform(X_test)"
   ]
  },
  {
   "cell_type": "code",
   "execution_count": 25,
   "metadata": {},
   "outputs": [],
   "source": [
    "# random under sampling for balancing dataset\n",
    "nn_under_sampler = RepeatedEditedNearestNeighbours(n_neighbors=4)\n",
    "X_resampled, y_resampled = nn_under_sampler.fit_resample(X_train, y_train)\n",
    "X_test_resampled, y_test_resampled = nn_under_sampler.fit_resample(X_test, y_test)"
   ]
  },
  {
   "cell_type": "code",
   "execution_count": 26,
   "metadata": {},
   "outputs": [
    {
     "name": "stdout",
     "output_type": "stream",
     "text": [
      "Shape of data before resampling: (57165, 19)\n",
      "Shape of data after resampling: (39209, 19)\n"
     ]
    },
    {
     "data": {
      "text/plain": [
       "Response\n",
       "0    32034\n",
       "1     7175\n",
       "Name: count, dtype: int64"
      ]
     },
     "execution_count": 26,
     "metadata": {},
     "output_type": "execute_result"
    }
   ],
   "source": [
    "# printing shape of data\n",
    "print(\"Shape of data before resampling:\",X_train.shape)\n",
    "print(\"Shape of data after resampling:\",X_resampled.shape)\n",
    "y_resampled.value_counts()"
   ]
  },
  {
   "cell_type": "code",
   "execution_count": 27,
   "metadata": {},
   "outputs": [
    {
     "data": {
      "text/plain": [
       "array([[1.        , 0.        , 0.        , ..., 0.07612457, 0.        ,\n",
       "        1.        ],\n",
       "       [1.        , 0.        , 0.        , ..., 0.39792388, 0.        ,\n",
       "        1.        ],\n",
       "       [0.        , 1.        , 0.        , ..., 0.69550173, 0.5       ,\n",
       "        0.        ],\n",
       "       ...,\n",
       "       [1.        , 0.        , 0.        , ..., 0.11072664, 0.5       ,\n",
       "        0.        ],\n",
       "       [1.        , 0.        , 0.        , ..., 0.1384083 , 0.        ,\n",
       "        0.        ],\n",
       "       [0.        , 1.        , 0.        , ..., 0.22145329, 0.5       ,\n",
       "        0.        ]], shape=(39209, 19))"
      ]
     },
     "execution_count": 27,
     "metadata": {},
     "output_type": "execute_result"
    }
   ],
   "source": [
    "X_resampled"
   ]
  },
  {
   "cell_type": "code",
   "execution_count": null,
   "metadata": {},
   "outputs": [],
   "source": [
    "# importing all ml models for classifications\n",
    "from sklearn.linear_model import LogisticRegression\n",
    "from sklearn.tree import DecisionTreeClassifier\n",
    "from sklearn.ensemble import RandomForestClassifier\n",
    "from sklearn.svm import SVC\n",
    "from sklearn.neighbors import KNeighborsClassifier\n",
    "from sklearn.ensemble import GradientBoostingClassifier\n",
    "from sklearn.ensemble import AdaBoostClassifier\n",
    "from xgboost import XGBClassifier\n",
    "from catboost import CatBoostClassifier\n",
    "from sklearn.metrics import accuracy_score, classification_report, precision_score, recall_score\n",
    "from sklearn.metrics import confusion_matrix, ConfusionMatrixDisplay\n",
    "from sklearn.model_selection import RandomizedSearchCV"
   ]
  },
  {
   "cell_type": "code",
   "execution_count": 31,
   "metadata": {},
   "outputs": [
    {
     "name": "stderr",
     "output_type": "stream",
     "text": [
      "2025/08/07 11:00:38 INFO mlflow.tracking.fluent: Experiment with name 'Model Comparison Experiments' does not exist. Creating a new experiment.\n"
     ]
    },
    {
     "name": "stdout",
     "output_type": "stream",
     "text": [
      "\n",
      "Training and evaluating: Logistic Regressor\n"
     ]
    },
    {
     "name": "stderr",
     "output_type": "stream",
     "text": [
      "2025/08/07 11:00:52 WARNING mlflow.utils.environment: Failed to resolve installed pip version. ``pip`` will be added to conda.yaml environment spec without a version specifier.\n",
      "2025/08/07 11:00:52 WARNING mlflow.models.model: Model logged without a signature and input example. Please set `input_example` parameter when logging the model to auto infer the model signature.\n"
     ]
    },
    {
     "name": "stdout",
     "output_type": "stream",
     "text": [
      "🏃 View run Logistic Regressor at: https://dagshub.com/yashmasane68/InsurePredict-Customer-Conversion-Insights.mlflow/#/experiments/1/runs/74200a05d8004655ba3ce9d3d7b4984a\n",
      "🧪 View experiment at: https://dagshub.com/yashmasane68/InsurePredict-Customer-Conversion-Insights.mlflow/#/experiments/1\n",
      "\n",
      "Training and evaluating: Knearest Neighbour Classifier\n"
     ]
    },
    {
     "name": "stderr",
     "output_type": "stream",
     "text": [
      "2025/08/07 11:01:05 WARNING mlflow.utils.environment: Failed to resolve installed pip version. ``pip`` will be added to conda.yaml environment spec without a version specifier.\n",
      "2025/08/07 11:01:05 WARNING mlflow.models.model: Model logged without a signature and input example. Please set `input_example` parameter when logging the model to auto infer the model signature.\n"
     ]
    },
    {
     "name": "stdout",
     "output_type": "stream",
     "text": [
      "🏃 View run Knearest Neighbour Classifier at: https://dagshub.com/yashmasane68/InsurePredict-Customer-Conversion-Insights.mlflow/#/experiments/1/runs/da46372a665c488a83ffda4c9d44725d\n",
      "🧪 View experiment at: https://dagshub.com/yashmasane68/InsurePredict-Customer-Conversion-Insights.mlflow/#/experiments/1\n",
      "\n",
      "Training and evaluating: Decision Tree Classifier\n"
     ]
    },
    {
     "name": "stderr",
     "output_type": "stream",
     "text": [
      "2025/08/07 11:01:21 WARNING mlflow.utils.environment: Failed to resolve installed pip version. ``pip`` will be added to conda.yaml environment spec without a version specifier.\n",
      "2025/08/07 11:01:21 WARNING mlflow.models.model: Model logged without a signature and input example. Please set `input_example` parameter when logging the model to auto infer the model signature.\n"
     ]
    },
    {
     "name": "stdout",
     "output_type": "stream",
     "text": [
      "🏃 View run Decision Tree Classifier at: https://dagshub.com/yashmasane68/InsurePredict-Customer-Conversion-Insights.mlflow/#/experiments/1/runs/f83dc3c6f6a741038274c99ee9214d5e\n",
      "🧪 View experiment at: https://dagshub.com/yashmasane68/InsurePredict-Customer-Conversion-Insights.mlflow/#/experiments/1\n",
      "\n",
      "Training and evaluating: Random Forest Classifier\n"
     ]
    },
    {
     "name": "stderr",
     "output_type": "stream",
     "text": [
      "2025/08/07 11:01:37 WARNING mlflow.utils.environment: Failed to resolve installed pip version. ``pip`` will be added to conda.yaml environment spec without a version specifier.\n",
      "2025/08/07 11:01:37 WARNING mlflow.models.model: Model logged without a signature and input example. Please set `input_example` parameter when logging the model to auto infer the model signature.\n"
     ]
    },
    {
     "name": "stdout",
     "output_type": "stream",
     "text": [
      "🏃 View run Random Forest Classifier at: https://dagshub.com/yashmasane68/InsurePredict-Customer-Conversion-Insights.mlflow/#/experiments/1/runs/ae87326e1bc14b34ac2d8c6712663ca1\n",
      "🧪 View experiment at: https://dagshub.com/yashmasane68/InsurePredict-Customer-Conversion-Insights.mlflow/#/experiments/1\n",
      "\n",
      "Training and evaluating: Gradient Boosting Classifier\n"
     ]
    },
    {
     "name": "stderr",
     "output_type": "stream",
     "text": [
      "2025/08/07 11:02:08 WARNING mlflow.utils.environment: Failed to resolve installed pip version. ``pip`` will be added to conda.yaml environment spec without a version specifier.\n",
      "2025/08/07 11:02:08 WARNING mlflow.models.model: Model logged without a signature and input example. Please set `input_example` parameter when logging the model to auto infer the model signature.\n"
     ]
    },
    {
     "name": "stdout",
     "output_type": "stream",
     "text": [
      "🏃 View run Gradient Boosting Classifier at: https://dagshub.com/yashmasane68/InsurePredict-Customer-Conversion-Insights.mlflow/#/experiments/1/runs/421720e14401459ba16b558d13f0d01d\n",
      "🧪 View experiment at: https://dagshub.com/yashmasane68/InsurePredict-Customer-Conversion-Insights.mlflow/#/experiments/1\n",
      "\n",
      "Training and evaluating: Support Vector Classifier\n"
     ]
    },
    {
     "name": "stderr",
     "output_type": "stream",
     "text": [
      "2025/08/07 11:02:30 WARNING mlflow.utils.environment: Failed to resolve installed pip version. ``pip`` will be added to conda.yaml environment spec without a version specifier.\n",
      "2025/08/07 11:02:30 WARNING mlflow.models.model: Model logged without a signature and input example. Please set `input_example` parameter when logging the model to auto infer the model signature.\n"
     ]
    },
    {
     "name": "stdout",
     "output_type": "stream",
     "text": [
      "🏃 View run Support Vector Classifier at: https://dagshub.com/yashmasane68/InsurePredict-Customer-Conversion-Insights.mlflow/#/experiments/1/runs/a999a4d870204173ae71f9eb35f92a96\n",
      "🧪 View experiment at: https://dagshub.com/yashmasane68/InsurePredict-Customer-Conversion-Insights.mlflow/#/experiments/1\n",
      "\n",
      "Training and evaluating: Adaboost Classifier\n"
     ]
    },
    {
     "name": "stderr",
     "output_type": "stream",
     "text": [
      "2025/08/07 11:02:43 WARNING mlflow.utils.environment: Failed to resolve installed pip version. ``pip`` will be added to conda.yaml environment spec without a version specifier.\n",
      "2025/08/07 11:02:43 WARNING mlflow.models.model: Model logged without a signature and input example. Please set `input_example` parameter when logging the model to auto infer the model signature.\n"
     ]
    },
    {
     "name": "stdout",
     "output_type": "stream",
     "text": [
      "🏃 View run Adaboost Classifier at: https://dagshub.com/yashmasane68/InsurePredict-Customer-Conversion-Insights.mlflow/#/experiments/1/runs/20e0cf3d89ac4b86bba324ecb81cc589\n",
      "🧪 View experiment at: https://dagshub.com/yashmasane68/InsurePredict-Customer-Conversion-Insights.mlflow/#/experiments/1\n",
      "\n",
      "Training and evaluating: xgb Classifier\n"
     ]
    },
    {
     "name": "stderr",
     "output_type": "stream",
     "text": [
      "2025/08/07 11:02:55 WARNING mlflow.utils.environment: Failed to resolve installed pip version. ``pip`` will be added to conda.yaml environment spec without a version specifier.\n",
      "2025/08/07 11:02:55 WARNING mlflow.models.model: Model logged without a signature and input example. Please set `input_example` parameter when logging the model to auto infer the model signature.\n"
     ]
    },
    {
     "name": "stdout",
     "output_type": "stream",
     "text": [
      "🏃 View run xgb Classifier at: https://dagshub.com/yashmasane68/InsurePredict-Customer-Conversion-Insights.mlflow/#/experiments/1/runs/d6dc37d46c2e4c8fa304d921d9b44214\n",
      "🧪 View experiment at: https://dagshub.com/yashmasane68/InsurePredict-Customer-Conversion-Insights.mlflow/#/experiments/1\n",
      "\n",
      "Training and evaluating: catboost Classifier\n"
     ]
    },
    {
     "name": "stderr",
     "output_type": "stream",
     "text": [
      "2025/08/07 11:03:13 WARNING mlflow.utils.environment: Failed to resolve installed pip version. ``pip`` will be added to conda.yaml environment spec without a version specifier.\n",
      "2025/08/07 11:03:13 WARNING mlflow.models.model: Model logged without a signature and input example. Please set `input_example` parameter when logging the model to auto infer the model signature.\n"
     ]
    },
    {
     "name": "stdout",
     "output_type": "stream",
     "text": [
      "🏃 View run catboost Classifier at: https://dagshub.com/yashmasane68/InsurePredict-Customer-Conversion-Insights.mlflow/#/experiments/1/runs/0a6e9197e80b475386cd2223084fe04a\n",
      "🧪 View experiment at: https://dagshub.com/yashmasane68/InsurePredict-Customer-Conversion-Insights.mlflow/#/experiments/1\n",
      "\n",
      "Best model: Gradient Boosting Classifier with accuracy: 0.9584\n"
     ]
    },
    {
     "name": "stderr",
     "output_type": "stream",
     "text": [
      "2025/08/07 11:03:22 WARNING mlflow.utils.environment: Failed to resolve installed pip version. ``pip`` will be added to conda.yaml environment spec without a version specifier.\n",
      "2025/08/07 11:03:22 WARNING mlflow.models.model: Model logged without a signature and input example. Please set `input_example` parameter when logging the model to auto infer the model signature.\n",
      "Registered model 'BestInsuranceClassifier' already exists. Creating a new version of this model...\n",
      "2025/08/07 11:03:27 INFO mlflow.store.model_registry.abstract_store: Waiting up to 300 seconds for model version to finish creation. Model name: BestInsuranceClassifier, version 2\n",
      "Created version '2' of model 'BestInsuranceClassifier'.\n"
     ]
    },
    {
     "name": "stdout",
     "output_type": "stream",
     "text": [
      "🏃 View run Best_Model_Registration at: https://dagshub.com/yashmasane68/InsurePredict-Customer-Conversion-Insights.mlflow/#/experiments/1/runs/fad5d954bfad422f8385f03d904cae2c\n",
      "🧪 View experiment at: https://dagshub.com/yashmasane68/InsurePredict-Customer-Conversion-Insights.mlflow/#/experiments/1\n"
     ]
    }
   ],
   "source": [
    "# Set MLflow tracking URI to your DAGsHub MLflow server\n",
    "mlflow.set_tracking_uri(\"https://dagshub.com/yashmasane68/InsurePredict-Customer-Conversion-Insights.mlflow\")\n",
    "mlflow.set_experiment(\"Model Comparison Experiments\")\n",
    "\n",
    "# Define models\n",
    "models = {\n",
    "    'Logistic Regressor': LogisticRegression(),\n",
    "    'Knearest Neighbour Classifier': KNeighborsClassifier(),\n",
    "    'Decision Tree Classifier': DecisionTreeClassifier(),\n",
    "    'Random Forest Classifier': RandomForestClassifier(),\n",
    "    'Gradient Boosting Classifier': GradientBoostingClassifier(),\n",
    "    'Support Vector Classifier': SVC(),\n",
    "    'Adaboost Classifier': AdaBoostClassifier(),\n",
    "    'xgb Classifier': XGBClassifier(),\n",
    "    'catboost Classifier': CatBoostClassifier(verbose=0)\n",
    "}\n",
    "\n",
    "# To store best model\n",
    "best_model = None\n",
    "best_accuracy = 0\n",
    "best_model_name = \"\"\n",
    "best_model_obj = None\n",
    "\n",
    "models_name = []\n",
    "acc_score = [] \n",
    "precision = [] \n",
    "recall = []\n",
    "\n",
    "# Loop through models\n",
    "for model_name, model in models.items():\n",
    "    with mlflow.start_run(run_name=model_name):\n",
    "        print(f\"\\nTraining and evaluating: {model_name}\")\n",
    "        model.fit(X_resampled, y_resampled)\n",
    "        y_pred = model.predict(X_test_resampled)\n",
    "\n",
    "        # Metrics\n",
    "        accuracy = round(accuracy_score(y_test_resampled, y_pred), 4)\n",
    "        prec = round(precision_score(y_test_resampled, y_pred), 4)\n",
    "        rec = round(recall_score(y_test_resampled, y_pred), 4)\n",
    "        report = classification_report(y_test_resampled, y_pred, output_dict=True)\n",
    "\n",
    "        models_name.append(model_name)\n",
    "        acc_score.append(accuracy)\n",
    "        precision.append(prec)\n",
    "        recall.append(rec)\n",
    "\n",
    "        # Log params (can log hyperparameters if customized)\n",
    "        mlflow.log_param(\"model_name\", model_name)\n",
    "\n",
    "        # Log metrics\n",
    "        mlflow.log_metric(\"accuracy\", accuracy)\n",
    "        mlflow.log_metric(\"precision\", prec)\n",
    "        mlflow.log_metric(\"recall\", rec)\n",
    "\n",
    "        # Confusion matrix plot\n",
    "        cm = confusion_matrix(y_test_resampled, y_pred)\n",
    "        plt.figure(figsize=(6, 4))\n",
    "        sns.heatmap(cm, annot=True, fmt='d', cmap='Blues')\n",
    "        plt.title(f\"Confusion Matrix: {model_name}\")\n",
    "        plt.xlabel(\"Predicted\")\n",
    "        plt.ylabel(\"Actual\")\n",
    "        plt.tight_layout()\n",
    "        cm_path = f\"confusion_matrix_{model_name}.png\"\n",
    "        plt.savefig(cm_path)\n",
    "        mlflow.log_artifact(cm_path)\n",
    "        plt.close()\n",
    "\n",
    "        # Log classification report as txt\n",
    "        report_path = f\"classification_report_{model_name}.txt\"\n",
    "        with open(report_path, \"w\") as f:\n",
    "            f.write(classification_report(y_test_resampled, y_pred))\n",
    "        mlflow.log_artifact(report_path)\n",
    "\n",
    "        # Log model itself\n",
    "        mlflow.sklearn.log_model(model, artifact_path=\"model\")\n",
    "\n",
    "        # Track best model\n",
    "        if accuracy > best_accuracy:\n",
    "            best_accuracy = accuracy\n",
    "            best_model_name = model_name\n",
    "            best_model_obj = model\n",
    "\n",
    "        # Clean up local artifact files\n",
    "        os.remove(cm_path)\n",
    "        os.remove(report_path)\n",
    "\n",
    "print(f\"\\nBest model: {best_model_name} with accuracy: {best_accuracy}\")\n",
    "\n",
    "# Register the best model\n",
    "with mlflow.start_run(run_name=\"Best_Model_Registration\") as run:\n",
    "    mlflow.sklearn.log_model(best_model_obj, artifact_path=\"best_model\", registered_model_name=\"BestInsuranceClassifier\")\n",
    "    mlflow.log_metric(\"best_accuracy\", best_accuracy)\n",
    "    mlflow.log_param(\"best_model_name\", best_model_name)"
   ]
  },
  {
   "cell_type": "code",
   "execution_count": 32,
   "metadata": {},
   "outputs": [
    {
     "data": {
      "text/html": [
       "<div>\n",
       "<style scoped>\n",
       "    .dataframe tbody tr th:only-of-type {\n",
       "        vertical-align: middle;\n",
       "    }\n",
       "\n",
       "    .dataframe tbody tr th {\n",
       "        vertical-align: top;\n",
       "    }\n",
       "\n",
       "    .dataframe thead th {\n",
       "        text-align: right;\n",
       "    }\n",
       "</style>\n",
       "<table border=\"1\" class=\"dataframe\">\n",
       "  <thead>\n",
       "    <tr style=\"text-align: right;\">\n",
       "      <th></th>\n",
       "      <th>Model Names</th>\n",
       "      <th>Accuracy</th>\n",
       "      <th>Precision</th>\n",
       "      <th>Recall</th>\n",
       "    </tr>\n",
       "  </thead>\n",
       "  <tbody>\n",
       "    <tr>\n",
       "      <th>4</th>\n",
       "      <td>Gradient Boosting Classifier</td>\n",
       "      <td>0.9584</td>\n",
       "      <td>0.8812</td>\n",
       "      <td>0.8808</td>\n",
       "    </tr>\n",
       "    <tr>\n",
       "      <th>0</th>\n",
       "      <td>Logistic Regressor</td>\n",
       "      <td>0.9563</td>\n",
       "      <td>0.8744</td>\n",
       "      <td>0.8759</td>\n",
       "    </tr>\n",
       "    <tr>\n",
       "      <th>8</th>\n",
       "      <td>catboost Classifier</td>\n",
       "      <td>0.9556</td>\n",
       "      <td>0.8651</td>\n",
       "      <td>0.8839</td>\n",
       "    </tr>\n",
       "    <tr>\n",
       "      <th>5</th>\n",
       "      <td>Support Vector Classifier</td>\n",
       "      <td>0.9547</td>\n",
       "      <td>0.8604</td>\n",
       "      <td>0.8848</td>\n",
       "    </tr>\n",
       "    <tr>\n",
       "      <th>7</th>\n",
       "      <td>xgb Classifier</td>\n",
       "      <td>0.9547</td>\n",
       "      <td>0.8586</td>\n",
       "      <td>0.8875</td>\n",
       "    </tr>\n",
       "    <tr>\n",
       "      <th>6</th>\n",
       "      <td>Adaboost Classifier</td>\n",
       "      <td>0.9537</td>\n",
       "      <td>0.8666</td>\n",
       "      <td>0.8693</td>\n",
       "    </tr>\n",
       "    <tr>\n",
       "      <th>3</th>\n",
       "      <td>Random Forest Classifier</td>\n",
       "      <td>0.9506</td>\n",
       "      <td>0.8342</td>\n",
       "      <td>0.8959</td>\n",
       "    </tr>\n",
       "    <tr>\n",
       "      <th>1</th>\n",
       "      <td>Knearest Neighbour Classifier</td>\n",
       "      <td>0.9454</td>\n",
       "      <td>0.8314</td>\n",
       "      <td>0.8631</td>\n",
       "    </tr>\n",
       "    <tr>\n",
       "      <th>2</th>\n",
       "      <td>Decision Tree Classifier</td>\n",
       "      <td>0.9330</td>\n",
       "      <td>0.7773</td>\n",
       "      <td>0.8644</td>\n",
       "    </tr>\n",
       "  </tbody>\n",
       "</table>\n",
       "</div>"
      ],
      "text/plain": [
       "                     Model Names  Accuracy  Precision  Recall\n",
       "4   Gradient Boosting Classifier    0.9584     0.8812  0.8808\n",
       "0             Logistic Regressor    0.9563     0.8744  0.8759\n",
       "8            catboost Classifier    0.9556     0.8651  0.8839\n",
       "5      Support Vector Classifier    0.9547     0.8604  0.8848\n",
       "7                 xgb Classifier    0.9547     0.8586  0.8875\n",
       "6            Adaboost Classifier    0.9537     0.8666  0.8693\n",
       "3       Random Forest Classifier    0.9506     0.8342  0.8959\n",
       "1  Knearest Neighbour Classifier    0.9454     0.8314  0.8631\n",
       "2       Decision Tree Classifier    0.9330     0.7773  0.8644"
      ]
     },
     "execution_count": 32,
     "metadata": {},
     "output_type": "execute_result"
    }
   ],
   "source": [
    "# creating dataframe for metrics\n",
    "metrics_df = pd.DataFrame({'Model Names':models_name, 'Accuracy':acc_score, \n",
    "                           'Precision': precision, 'Recall':recall})\n",
    "\n",
    "metrics_df.sort_values(by='Accuracy', ascending=False)"
   ]
  },
  {
   "cell_type": "markdown",
   "metadata": {},
   "source": [
    "Gradient boosting classifier shows good balance between precision and recall and has low training and inference time so we will go with Gradient Boosting Classifier"
   ]
  },
  {
   "cell_type": "code",
   "execution_count": null,
   "metadata": {},
   "outputs": [
    {
     "name": "stderr",
     "output_type": "stream",
     "text": [
      "2025/08/07 11:03:32 INFO mlflow.tracking.fluent: Experiment with name 'Best Model Experiment' does not exist. Creating a new experiment.\n"
     ]
    },
    {
     "name": "stdout",
     "output_type": "stream",
     "text": [
      "Fitting 5 folds for each of 20 candidates, totalling 100 fits\n",
      "              precision    recall  f1-score   support\n",
      "\n",
      "           0       0.98      0.70      0.81     16799\n",
      "           1       0.28      0.88      0.43      2257\n",
      "\n",
      "    accuracy                           0.72     19056\n",
      "   macro avg       0.63      0.79      0.62     19056\n",
      "weighted avg       0.90      0.72      0.77     19056\n",
      "\n"
     ]
    },
    {
     "name": "stderr",
     "output_type": "stream",
     "text": [
      "2025/08/07 11:06:00 WARNING mlflow.utils.environment: Failed to resolve installed pip version. ``pip`` will be added to conda.yaml environment spec without a version specifier.\n",
      "2025/08/07 11:06:00 WARNING mlflow.models.model: Model logged without a signature and input example. Please set `input_example` parameter when logging the model to auto infer the model signature.\n"
     ]
    },
    {
     "name": "stdout",
     "output_type": "stream",
     "text": [
      "🏃 View run trusting-stork-274 at: https://dagshub.com/yashmasane68/InsurePredict-Customer-Conversion-Insights.mlflow/#/experiments/2/runs/325573305aee4f23957fb1431fae8f9e\n",
      "🧪 View experiment at: https://dagshub.com/yashmasane68/InsurePredict-Customer-Conversion-Insights.mlflow/#/experiments/2\n"
     ]
    },
    {
     "data": {
      "image/png": "[encoded data removed]",
      "text/plain": [
       "<Figure size 640x480 with 1 Axes>"
      ]
     },
     "metadata": {},
     "output_type": "display_data"
    }
   ],
   "source": [
    "from sklearn.model_selection import RandomizedSearchCV\n",
    "from sklearn.metrics import classification_report, roc_auc_score, roc_curve, accuracy_score\n",
    "\n",
    "# Set MLflow tracking URI and experiment\n",
    "mlflow.set_tracking_uri(\"https://dagshub.com/yashmasane68/InsurePredict-Customer-Conversion-Insights.mlflow\")\n",
    "mlflow.set_experiment(\"Best Model Experiment\")\n",
    "\n",
    "# Define the classifier\n",
    "gbc = GradientBoostingClassifier()\n",
    "\n",
    "# Define the hyperparameter grid\n",
    "param_dist = {\n",
    "    'n_estimators': [100, 200, 300],\n",
    "    'learning_rate': [0.01, 0.1, 0.2],\n",
    "    'max_depth': [3, 4, 5],\n",
    "    'min_samples_split': [2, 5, 10],\n",
    "    'min_samples_leaf': [1, 2, 4],\n",
    "    'subsample': [0.8, 1.0],\n",
    "}\n",
    "\n",
    "# Perform randomized search with cross-validation\n",
    "random_search = RandomizedSearchCV(\n",
    "    estimator=gbc,\n",
    "    param_distributions=param_dist,\n",
    "    n_iter=20,                # Number of different combinations to try\n",
    "    scoring='accuracy',\n",
    "    cv=5,\n",
    "    n_jobs=-1,\n",
    "    verbose=2,\n",
    "    random_state=42\n",
    ")\n",
    "\n",
    "# Start MLflow run\n",
    "with mlflow.start_run():\n",
    "    # Fit the model\n",
    "    random_search.fit(X_resampled, y_resampled)\n",
    "\n",
    "    # Log all best parameters\n",
    "    best_params = random_search.best_params_\n",
    "    for param, value in best_params.items():\n",
    "        mlflow.log_param(param, value)\n",
    "\n",
    "    # Get the best model\n",
    "    best_model = random_search.best_estimator_\n",
    "\n",
    "    # Predict and evaluate on test data\n",
    "    y_pred = best_model.predict(X_test)\n",
    "    y_proba = best_model.predict_proba(X_test)[:, 1]  # Probability estimates for ROC AUC\n",
    "\n",
    "    acc = accuracy_score(y_test, y_pred)\n",
    "    auc = roc_auc_score(y_test, y_proba)\n",
    "\n",
    "    mlflow.log_metric(\"accuracy\", acc)\n",
    "    mlflow.log_metric(\"roc_auc\", auc)\n",
    "\n",
    "    # Print classification report\n",
    "    report = classification_report(y_test, y_pred, output_dict=True)\n",
    "    print(classification_report(y_test, y_pred))\n",
    "\n",
    "    # Log classification metrics\n",
    "    for label, scores in report.items():\n",
    "        if isinstance(scores, dict):\n",
    "            for metric_name, score in scores.items():\n",
    "                mlflow.log_metric(f\"{label}_{metric_name}\", score)\n",
    "\n",
    "    # Plot and log ROC curve\n",
    "    fpr, tpr, thresholds = roc_curve(y_test, y_proba)\n",
    "    plt.figure()\n",
    "    plt.plot(fpr, tpr, label=f\"AUC = {auc:.2f}\")\n",
    "    plt.plot([0, 1], [0, 1], 'k--')  # Diagonal\n",
    "    plt.xlabel('False Positive Rate')\n",
    "    plt.ylabel('True Positive Rate')\n",
    "    plt.title('ROC Curve')\n",
    "    plt.legend(loc='lower right')\n",
    "    plt.grid(True)\n",
    "    \n",
    "    # Save and log plot\n",
    "    plt.savefig(\"roc_curve.png\")\n",
    "    mlflow.log_artifact(\"roc_curve.png\")\n",
    "    signature = infer_signature(X_train, y_pred)\n",
    "    # Log the model itself\n",
    "    mlflow.sklearn.log_model(best_model, \"gradient_boosting_model\", signature=signature)\n"
   ]
  },
  {
   "cell_type": "code",
   "execution_count": 35,
   "metadata": {},
   "outputs": [
    {
     "data": {
      "text/plain": [
       "{'subsample': 1.0,\n",
       " 'n_estimators': 200,\n",
       " 'min_samples_split': 10,\n",
       " 'min_samples_leaf': 2,\n",
       " 'max_depth': 5,\n",
       " 'learning_rate': 0.2}"
      ]
     },
     "execution_count": 35,
     "metadata": {},
     "output_type": "execute_result"
    }
   ],
   "source": [
    "random_search.best_params_"
   ]
  }
 ],
 "metadata": {
  "kernelspec": {
   "display_name": "InsurePredict-Customer-Conversion-Insights (3.13.2)",
   "language": "python",
   "name": "python3"
  },
  "language_info": {
   "codemirror_mode": {
    "name": "ipython",
    "version": 3
   },
   "file_extension": ".py",
   "mimetype": "text/x-python",
   "name": "python",
   "nbconvert_exporter": "python",
   "pygments_lexer": "ipython3",
   "version": "3.13.2"
  }
 },
 "nbformat": 4,
 "nbformat_minor": 2
}
